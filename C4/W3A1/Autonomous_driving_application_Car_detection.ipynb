version https://git-lfs.github.com/spec/v1
oid sha256:8dbac838e5ab16f783d605a59f356354ad3b7fa8822739309f355c77e1923e05
size 310400
